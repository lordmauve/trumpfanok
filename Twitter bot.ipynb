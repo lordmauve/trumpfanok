{
 "cells": [
  {
   "cell_type": "code",
   "execution_count": 1,
   "metadata": {
    "collapsed": true
   },
   "outputs": [],
   "source": [
    "import twitter"
   ]
  },
  {
   "cell_type": "code",
   "execution_count": 2,
   "metadata": {
    "collapsed": true
   },
   "outputs": [],
   "source": [
    "api = twitter.Api(\n",
    "    consumer_key='OBjmMLsUo5Vis58YhCoQWomJK',\n",
    "    consumer_secret='SvAZ3r5u1G0N6ksHdQwd6yDX0RjlZD9bZ6dVlbDos8QJhZidrg',\n",
    "    access_token_key='804413295260102656-8ZoJGHYZYnO91PQHcEL0LBM4WPX2N13',\n",
    "    access_token_secret='oQVt9qZR5pVoqr5JcnnZvdFIxOmfRyYssed0FYeaKhIXx'\n",
    ")"
   ]
  },
  {
   "cell_type": "code",
   "execution_count": 3,
   "metadata": {
    "collapsed": false
   },
   "outputs": [
    {
     "data": {
      "text/plain": [
       "User(ID=804413295260102656, ScreenName=trumpfanok)"
      ]
     },
     "execution_count": 3,
     "metadata": {},
     "output_type": "execute_result"
    }
   ],
   "source": [
    "api.VerifyCredentials()"
   ]
  },
  {
   "cell_type": "code",
   "execution_count": 12,
   "metadata": {
    "collapsed": false
   },
   "outputs": [
    {
     "data": {
      "text/plain": [
       "{'_json': {'contributors': None,\n",
       "  'coordinates': None,\n",
       "  'created_at': 'Wed Nov 30 18:21:07 +0000 2016',\n",
       "  'entities': {'hashtags': [{'indices': [92, 99], 'text': 'PEOTUS'}],\n",
       "   'symbols': [],\n",
       "   'urls': [{'display_url': 'twitter.com/i/web/status/8…',\n",
       "     'expanded_url': 'https://twitter.com/i/web/status/804027494051565568',\n",
       "     'indices': [101, 124],\n",
       "     'url': 'https://t.co/gj2zM3x02h'}],\n",
       "   'user_mentions': [{'id': 15513604,\n",
       "     'id_str': '15513604',\n",
       "     'indices': [19, 33],\n",
       "     'name': 'FOX & Friends',\n",
       "     'screen_name': 'foxandfriends'},\n",
       "    {'id': 22055109,\n",
       "     'id_str': '22055109',\n",
       "     'indices': [37, 48],\n",
       "     'name': 'Steve Doocy',\n",
       "     'screen_name': 'SteveDoocy'}]},\n",
       "  'favorite_count': 17172,\n",
       "  'favorited': False,\n",
       "  'geo': None,\n",
       "  'id': 804027494051565568,\n",
       "  'id_str': '804027494051565568',\n",
       "  'in_reply_to_screen_name': None,\n",
       "  'in_reply_to_status_id': None,\n",
       "  'in_reply_to_status_id_str': None,\n",
       "  'in_reply_to_user_id': None,\n",
       "  'in_reply_to_user_id_str': None,\n",
       "  'is_quote_status': False,\n",
       "  'lang': 'en',\n",
       "  'metadata': {'iso_language_code': 'en', 'result_type': 'popular'},\n",
       "  'place': None,\n",
       "  'possibly_sensitive': False,\n",
       "  'retweet_count': 6361,\n",
       "  'retweeted': False,\n",
       "  'source': '<a href=\"https://ads.twitter.com\" rel=\"nofollow\">Twitter Ads</a>',\n",
       "  'text': 'Great interview on @foxandfriends by @SteveDoocy w/ Carrier employee- who has a message for #PEOTUS… https://t.co/gj2zM3x02h',\n",
       "  'truncated': True,\n",
       "  'user': {'contributors_enabled': False,\n",
       "   'created_at': 'Thu Jun 28 02:45:39 +0000 2012',\n",
       "   'default_profile': False,\n",
       "   'default_profile_image': False,\n",
       "   'description': 'June 2015 - Current: Director of Social Media & Senior Advisor to President-elect Donald J. Trump #Transition2017 • #TrumpTrain Conductor',\n",
       "   'entities': {'description': {'urls': []},\n",
       "    'url': {'urls': [{'display_url': 'DanScavino.com',\n",
       "       'expanded_url': 'http://www.DanScavino.com',\n",
       "       'indices': [0, 23],\n",
       "       'url': 'https://t.co/bNIc5Et789'}]}},\n",
       "   'favourites_count': 2984,\n",
       "   'follow_request_sent': False,\n",
       "   'followers_count': 236039,\n",
       "   'following': False,\n",
       "   'friends_count': 163,\n",
       "   'geo_enabled': True,\n",
       "   'has_extended_profile': False,\n",
       "   'id': 620571475,\n",
       "   'id_str': '620571475',\n",
       "   'is_translation_enabled': False,\n",
       "   'is_translator': False,\n",
       "   'lang': 'en',\n",
       "   'listed_count': 2078,\n",
       "   'location': 'Trump Tower, NYC',\n",
       "   'name': 'Dan Scavino Jr.',\n",
       "   'notifications': False,\n",
       "   'profile_background_color': '131516',\n",
       "   'profile_background_image_url': 'http://pbs.twimg.com/profile_background_images/627165912412626944/ycCg68Qq.jpg',\n",
       "   'profile_background_image_url_https': 'https://pbs.twimg.com/profile_background_images/627165912412626944/ycCg68Qq.jpg',\n",
       "   'profile_background_tile': True,\n",
       "   'profile_banner_url': 'https://pbs.twimg.com/profile_banners/620571475/1480555151',\n",
       "   'profile_image_url': 'http://pbs.twimg.com/profile_images/792267609420943360/JGZ7gJrK_normal.jpg',\n",
       "   'profile_image_url_https': 'https://pbs.twimg.com/profile_images/792267609420943360/JGZ7gJrK_normal.jpg',\n",
       "   'profile_link_color': '1B95E0',\n",
       "   'profile_sidebar_border_color': '000000',\n",
       "   'profile_sidebar_fill_color': '000000',\n",
       "   'profile_text_color': '000000',\n",
       "   'profile_use_background_image': True,\n",
       "   'protected': False,\n",
       "   'screen_name': 'DanScavino',\n",
       "   'statuses_count': 9791,\n",
       "   'time_zone': 'Eastern Time (US & Canada)',\n",
       "   'translator_type': 'none',\n",
       "   'url': 'https://t.co/bNIc5Et789',\n",
       "   'utc_offset': -18000,\n",
       "   'verified': True}},\n",
       " 'contributors': None,\n",
       " 'coordinates': None,\n",
       " 'created_at': 'Wed Nov 30 18:21:07 +0000 2016',\n",
       " 'current_user_retweet': None,\n",
       " 'favorite_count': 17172,\n",
       " 'favorited': False,\n",
       " 'full_text': None,\n",
       " 'geo': None,\n",
       " 'hashtags': [Hashtag(Text='PEOTUS')],\n",
       " 'id': 804027494051565568,\n",
       " 'id_str': '804027494051565568',\n",
       " 'in_reply_to_screen_name': None,\n",
       " 'in_reply_to_status_id': None,\n",
       " 'in_reply_to_user_id': None,\n",
       " 'lang': 'en',\n",
       " 'location': None,\n",
       " 'media': None,\n",
       " 'param_defaults': {'contributors': None,\n",
       "  'coordinates': None,\n",
       "  'created_at': None,\n",
       "  'current_user_retweet': None,\n",
       "  'favorite_count': None,\n",
       "  'favorited': None,\n",
       "  'full_text': None,\n",
       "  'geo': None,\n",
       "  'hashtags': None,\n",
       "  'id': None,\n",
       "  'id_str': None,\n",
       "  'in_reply_to_screen_name': None,\n",
       "  'in_reply_to_status_id': None,\n",
       "  'in_reply_to_user_id': None,\n",
       "  'lang': None,\n",
       "  'location': None,\n",
       "  'media': None,\n",
       "  'place': None,\n",
       "  'possibly_sensitive': None,\n",
       "  'retweet_count': None,\n",
       "  'retweeted': None,\n",
       "  'retweeted_status': None,\n",
       "  'scopes': None,\n",
       "  'source': None,\n",
       "  'text': None,\n",
       "  'truncated': None,\n",
       "  'urls': None,\n",
       "  'user': None,\n",
       "  'user_mentions': None,\n",
       "  'withheld_copyright': None,\n",
       "  'withheld_in_countries': None,\n",
       "  'withheld_scope': None},\n",
       " 'place': None,\n",
       " 'possibly_sensitive': False,\n",
       " 'retweet_count': 6361,\n",
       " 'retweeted': False,\n",
       " 'retweeted_status': None,\n",
       " 'scopes': None,\n",
       " 'source': '<a href=\"https://ads.twitter.com\" rel=\"nofollow\">Twitter Ads</a>',\n",
       " 'text': 'Great interview on @foxandfriends by @SteveDoocy w/ Carrier employee- who has a message for #PEOTUS… https://t.co/gj2zM3x02h',\n",
       " 'truncated': True,\n",
       " 'tweet_mode': 'compatibility',\n",
       " 'urls': [URL(URL=https://t.co/gj2zM3x02h, ExpandedURL=https://twitter.com/i/web/status/804027494051565568)],\n",
       " 'user': User(ID=620571475, ScreenName=DanScavino),\n",
       " 'user_mentions': [User(ID=15513604, ScreenName=foxandfriends),\n",
       "  User(ID=22055109, ScreenName=SteveDoocy)],\n",
       " 'withheld_copyright': None,\n",
       " 'withheld_in_countries': None,\n",
       " 'withheld_scope': None}"
      ]
     },
     "execution_count": 12,
     "metadata": {},
     "output_type": "execute_result"
    }
   ],
   "source": [
    "DRUMPF = 'realDonaldTrump'\n",
    "\n",
    "#statuses = api.GetUserTimeline(screen_name=DRUMPF)\n",
    "\n",
    "#statuses = api.GetMentions(screen_name=DRUMPF)\n",
    "srch= api.GetSearch('@realDonaldTrump')\n",
    "vars(srch[0])"
   ]
  },
  {
   "cell_type": "code",
   "execution_count": null,
   "metadata": {
    "collapsed": true
   },
   "outputs": [],
   "source": []
  },
  {
   "cell_type": "code",
   "execution_count": null,
   "metadata": {
    "collapsed": true
   },
   "outputs": [],
   "source": []
  }
 ],
 "metadata": {
  "kernelspec": {
   "display_name": "Python 3",
   "language": "python",
   "name": "python3"
  },
  "language_info": {
   "codemirror_mode": {
    "name": "ipython",
    "version": 3
   },
   "file_extension": ".py",
   "mimetype": "text/x-python",
   "name": "python",
   "nbconvert_exporter": "python",
   "pygments_lexer": "ipython3",
   "version": "3.5.2"
  }
 },
 "nbformat": 4,
 "nbformat_minor": 2
}
